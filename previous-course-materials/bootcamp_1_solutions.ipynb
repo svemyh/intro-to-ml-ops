{
 "cells": [
  {
   "cell_type": "markdown",
   "id": "14be2dbb",
   "metadata": {},
   "source": [
    "# Bootcamp 1\n",
    "\n",
    "Fill in the **WRITE HERE** cells. Keep solutions minimal. Auto-checks will validate key steps."
   ]
  },
  {
   "cell_type": "markdown",
   "id": "4c1a1d41",
   "metadata": {},
   "source": [
    "## 0. Setup"
   ]
  },
  {
   "cell_type": "code",
   "execution_count": null,
   "id": "bd9764ee",
   "metadata": {},
   "outputs": [],
   "source": [
    "import numpy as np\n",
    "import pandas as pd\n",
    "import matplotlib.pyplot as plt\n",
    "import torch\n",
    "from torch import nn\n",
    "from torch.utils.data import DataLoader, random_split, TensorDataset\n",
    "from torchvision import datasets, transforms\n",
    "\n",
    "torch.manual_seed(42)\n",
    "np.random.seed(42)\n",
    "\n",
    "device = torch.device(\"cpu\")\n",
    "print(device)"
   ]
  },
  {
   "cell_type": "markdown",
   "id": "36847920",
   "metadata": {},
   "source": [
    "## 1. NumPy (arrays & operations)"
   ]
  },
  {
   "cell_type": "markdown",
   "id": "5329b29b",
   "metadata": {},
   "source": [
    "**Exercise 1.01 (create an array)**: Create a 1D numpy array `simple_array` with values `[1, 2, 3]`."
   ]
  },
  {
   "cell_type": "code",
   "execution_count": null,
   "id": "ae578411",
   "metadata": {},
   "outputs": [],
   "source": [
    "# WRITE HERE: create a 1D array with values [1,2,3]\n",
    "simple_array = np.array([1, 2, 3])\n",
    "\n",
    "# CHECK\n",
    "print(\"simple_array:\", simple_array)\n",
    "assert isinstance(simple_array, np.ndarray), \"simple_array should be a numpy array\"\n",
    "assert np.array_equal(simple_array, np.array([1, 2, 3])), \"simple_array should equal [1,2,3]\"\n",
    "print(\"OK 1.01\")"
   ]
  },
  {
   "cell_type": "markdown",
   "id": "ffcbef1d",
   "metadata": {},
   "source": [
    "**Exercise 1.02 (zeros/ones)**: Create an array of zeros `zeros_array` that looks like this:\n",
    "\n",
    "\\begin{bmatrix}\n",
    "0.0 & 0.0 \\\\\n",
    "0.0 & 0.0\n",
    "\\end{bmatrix}\n",
    "\n",
    "And a 1x3 ones array `ones_array` that looks like this:\n",
    "\n",
    "\\begin{bmatrix}\n",
    "1.0 & 1.0 & 1.0\n",
    "\\end{bmatrix}"
   ]
  },
  {
   "cell_type": "code",
   "execution_count": null,
   "id": "2d350266",
   "metadata": {},
   "outputs": [],
   "source": [
    "# WRITE HERE: create zeros and ones arrays with dtype float64\n",
    "zeros_array = np.zeros((2, 2), dtype=np.float64)\n",
    "ones_array  = np.ones((1, 3), dtype=np.float64)\n",
    "\n",
    "# CHECK\n",
    "print(\"zeros_array:\\n\", zeros_array)\n",
    "print(\"ones_array:\\n\", ones_array)\n",
    "assert isinstance(zeros_array, np.ndarray) and isinstance(ones_array, np.ndarray), \"zeros_array and ones_array should be arrays\"\n",
    "assert zeros_array.shape == (2,2) and ones_array.shape == (1,3), \"Unexpected shapes for zeros_array or ones_array\"\n",
    "assert np.allclose(zeros_array, 0.0) and np.allclose(ones_array, 1.0), \"Values should be all zeros / all ones\"\n",
    "print(\"OK 1.02\")"
   ]
  },
  {
   "cell_type": "markdown",
   "id": "16bf4ba9",
   "metadata": {},
   "source": [
    "**Exercise 1.03 (dtype)**: Create an array with `dtype=np.float32)`"
   ]
  },
  {
   "cell_type": "code",
   "execution_count": null,
   "id": "dea87b4a",
   "metadata": {},
   "outputs": [],
   "source": [
    "# WRITE HERE: create array with dtype float32\n",
    "float32_array = np.array([1, 2, 3], dtype=np.float32)\n",
    "\n",
    "# CHECK\n",
    "print(\"float32_array dtype:\", float32_array.dtype)\n",
    "assert isinstance(float32_array, np.ndarray), \"float32_array should be a numpy array\"\n",
    "assert float32_array.dtype == np.float32, \"float32_array should have dtype float32\"\n",
    "print(\"OK 1.03\")"
   ]
  },
  {
   "cell_type": "markdown",
   "id": "aec7b4d9",
   "metadata": {},
   "source": [
    "**Exercise 1.04 (reshape)**: Reshape `linear_range = np.arange(6)` into:\n",
    "\n",
    "\\begin{bmatrix}\n",
    "0 & 1 & 2 \\\\\n",
    "3 & 4 & 5\n",
    "\\end{bmatrix}"
   ]
  },
  {
   "cell_type": "code",
   "execution_count": null,
   "id": "a51a6841",
   "metadata": {},
   "outputs": [],
   "source": [
    "linear_range = np.arange(6) # [0, 1, 2, 3, 4, 5]\n",
    "\n",
    "# WRITE HERE: reshape linear_range to (2,3)\n",
    "reshaped_to_2x3 = linear_range.reshape(2, 3)\n",
    "\n",
    "# CHECK\n",
    "print(\"reshaped_to_2x3:\\n\", reshaped_to_2x3)\n",
    "assert isinstance(reshaped_to_2x3, np.ndarray), \"reshaped_to_2x3 should be a numpy array\"\n",
    "assert reshaped_to_2x3.shape == (2,3), \"reshaped_to_2x3 should have shape (2,3)\"\n",
    "assert np.array_equal(reshaped_to_2x3, np.array([[0,1,2],[3,4,5]])), \"reshaped_to_2x3 values unexpected\"\n",
    "print(\"OK 1.04\")"
   ]
  },
  {
   "cell_type": "markdown",
   "id": "0c2a352f",
   "metadata": {},
   "source": [
    "**Exercise 1.05 (elementwise ops)**: For `base_array = np.array([1,2,3])`, compute `plus_five = base_array + 5` and `times_two = base_array * 2`."
   ]
  },
  {
   "cell_type": "code",
   "execution_count": null,
   "id": "a0e4d633",
   "metadata": {},
   "outputs": [],
   "source": [
    "base_array = np.array([1, 2, 3])\n",
    "\n",
    "# WRITE HERE: elementwise add and multiply\n",
    "plus_five = base_array + 5\n",
    "times_two = base_array * 2\n",
    "\n",
    "# CHECK\n",
    "print(\"plus_five:\", plus_five)\n",
    "print(\"times_two:\", times_two)\n",
    "assert np.array_equal(plus_five, np.array([6, 7, 8])), \"plus_five should be base_array+5\"\n",
    "assert np.array_equal(times_two, np.array([2, 4, 6])), \"times_two should be base_array*2\"\n",
    "print(\"OK 1.05\")"
   ]
  },
  {
   "cell_type": "markdown",
   "id": "a5032855",
   "metadata": {},
   "source": [
    "**Exercise 1.06 (indexing)**: For `numbers = np.array([[2, 3, 4], [5, 6, 7]])`, store the third element in the second row (value 7) in scalar `third_value_second_row`."
   ]
  },
  {
   "cell_type": "code",
   "execution_count": null,
   "id": "a8d2c2e7",
   "metadata": {},
   "outputs": [],
   "source": [
    "numbers = np.array([[2, 3, 4],\n",
    "                    [5, 6, 7]])\n",
    "\n",
    "# WRITE HERE: index the third element into third_value (a scalar)\n",
    "third_value_second_row = numbers[1, 2]\n",
    "\n",
    "# CHECK\n",
    "print(\"third_value_second_row:\", third_value_second_row)\n",
    "assert np.isscalar(third_value_second_row), \"third_value_second_row should be a scalar\"\n",
    "assert third_value_second_row == 7, \"Expected value 7\"\n",
    "print(\"OK 1.06\")"
   ]
  },
  {
   "cell_type": "markdown",
   "id": "cff796c3",
   "metadata": {},
   "source": [
    "**Exercise 1.07 (slicing)**: For `values = np.array([10,20,30,40])`, select the last two elements into `last_two_elements`."
   ]
  },
  {
   "cell_type": "code",
   "execution_count": null,
   "id": "5d27ff1f",
   "metadata": {},
   "outputs": [],
   "source": [
    "values = np.array([10, 20, 30, 40])\n",
    "\n",
    "# WRITE HERE: slice first two elements into first_two_elements\n",
    "first_two_elements = values[:2]\n",
    "\n",
    "# WRITE HERE: slice last two elements into last_two_elements\n",
    "last_two_elements  = values[-2:]\n",
    "\n",
    "# CHECK\n",
    "print(\"last_two_elements:\", last_two_elements)\n",
    "assert isinstance(last_two_elements, np.ndarray), \"last_two_elements should be a numpy array\"\n",
    "assert last_two_elements.shape == (2,), \"last_two_elements should have shape (2,)\"\n",
    "assert np.array_equal(last_two_elements, np.array([30, 40])), \"Expected [30, 40]\"\n",
    "\n",
    "print(\"first_two_elements:\", first_two_elements)\n",
    "assert isinstance(first_two_elements, np.ndarray), \"first_two_elements should be a numpy array\"\n",
    "assert first_two_elements.shape == (2,), \"first_two_elements should have shape (2,)\"\n",
    "assert np.array_equal(first_two_elements, np.array([10, 20])), \"Expected [10, 20]\"\n",
    "\n",
    "print(\"OK 1.07\")"
   ]
  },
  {
   "cell_type": "markdown",
   "id": "b00eb0a9",
   "metadata": {},
   "source": [
    "**Exercise 1.08 (broadcasting add)**: Given `ones_matrix_2x3`\n",
    "\\begin{bmatrix}\n",
    "1.0 & 1.0 & 1.0 \\\\\n",
    "1.0 & 1.0 & 1.0\n",
    "\\end{bmatrix}\n",
    "\n",
    "and `row_vector_1x3 = np.array([1,2,3])`,\n",
    "\\begin{bmatrix}\n",
    "1.0 & 2.0 & 3.0\n",
    "\\end{bmatrix}\n",
    "\n",
    "sum them together so that you get the broadcasted result `broadcasted_sum`:\n",
    "\\begin{bmatrix}\n",
    "2.0 & 3.0 & 4.0 \\\\\n",
    "2.0 & 3.0 & 4.0\n",
    "\\end{bmatrix}"
   ]
  },
  {
   "cell_type": "code",
   "execution_count": null,
   "id": "474add09",
   "metadata": {},
   "outputs": [],
   "source": [
    "ones_matrix_2x3 = np.ones((2,3))\n",
    "row_vector_1x3  = np.array([1, 2, 3])\n",
    "\n",
    "# WRITE HERE: compute broadcast_sum using broadcasting\n",
    "broadcast_sum = ones_matrix_2x3 + row_vector_1x3\n",
    "\n",
    "# CHECK\n",
    "print(\"broadcast_sum:\\n\", broadcast_sum)\n",
    "assert isinstance(broadcast_sum, np.ndarray), \"broadcast_sum should be a numpy array\"\n",
    "assert broadcast_sum.shape == (2,3), \"broadcast_sum should have shape (2,3)\"\n",
    "expected = np.vstack([row_vector_1x3 + 1, row_vector_1x3 + 1])\n",
    "assert np.array_equal(broadcast_sum, expected), f\"Expected two rows of {row_vector_1x3}\"\n",
    "print(\"OK 1.08\")"
   ]
  },
  {
   "cell_type": "markdown",
   "id": "a9a536cc",
   "metadata": {},
   "source": [
    "**Exercise 1.09 (boolean mask)**: From `array_1_to_5 = np.array([1,2,3,4,5])`, select values greater than 3 into `greater_than_three` so that you get:\n",
    "\n",
    "\\begin{bmatrix}\n",
    "4 & 5\n",
    "\\end{bmatrix}"
   ]
  },
  {
   "cell_type": "code",
   "execution_count": null,
   "id": "4ffcd5e7",
   "metadata": {},
   "outputs": [],
   "source": [
    "array_1_to_5 = np.array([1, 2, 3, 4, 5])\n",
    "\n",
    "# WRITE HERE: use a boolean mask to select values > 3\n",
    "greater_than_three = array_1_to_5[array_1_to_5 > 3]\n",
    "\n",
    "# CHECK\n",
    "print(\"greater_than_three:\", greater_than_three)\n",
    "assert isinstance(greater_than_three, np.ndarray), \"greater_than_three should be a numpy array\"\n",
    "assert np.array_equal(greater_than_three, np.array([4, 5])), \"Expected [4, 5]\"\n",
    "print(\"OK 1.09\")"
   ]
  },
  {
   "cell_type": "markdown",
   "id": "fe6ea120",
   "metadata": {},
   "source": [
    "**Exercise 1.10 (view vs copy)**: Given `base_array_0_to_3 = np.arange(4)`:\n",
    "\n",
    "\\begin{bmatrix}\n",
    "1.0 & 2.0 & 3.0 & 4.0\n",
    "\\end{bmatrix}\n",
    "\n",
    "\n",
    "\n",
    "\n",
    " create a view `every_second_view = base_array_0_to_3[::2]` and a copy `every_second_copy = base_array_0_to_3[::2].copy()`. Then mutate `base_array_0_to_3[0] = 99` and observe the difference."
   ]
  },
  {
   "cell_type": "code",
   "execution_count": null,
   "id": "11cb86e2",
   "metadata": {},
   "outputs": [],
   "source": [
    "base_array_0_to_3 = np.arange(4)\n",
    "\n",
    "# WRITE HERE: create a view and a copy from base_array_0_to_3 using slicing\n",
    "every_second_view = base_array_0_to_3[::2]\n",
    "every_second_copy = base_array_0_to_3[::2].copy()\n",
    "\n",
    "# Mutate base\n",
    "base_array_0_to_3[0] = 99\n",
    "\n",
    "# CHECK\n",
    "print(\"every_second_view:\", every_second_view)\n",
    "print(\"every_second_copy:\", every_second_copy)\n",
    "assert isinstance(every_second_view, np.ndarray) and isinstance(every_second_copy, np.ndarray), \"every_second_view and every_second_copy should be arrays\"\n",
    "assert np.array_equal(every_second_view, base_array_0_to_3[::2]), \"every_second_view should reflect changes in base_array_0_to_3\"\n",
    "assert np.array_equal(every_second_copy, np.array([0, 2])), \"every_second_copy should be independent (values before mutation)\"\n",
    "assert every_second_view[0] == 99 and every_second_copy[0] == 0, \"view sees mutation, copy does not\"\n",
    "print(\"OK 1.10\")"
   ]
  },
  {
   "cell_type": "markdown",
   "id": "a45e6eee",
   "metadata": {},
   "source": [
    "**Exercise 1.11 (sum)**: For `matrix_2x3 = np.array([[1,2,3],[4,5,6]])`:\n",
    "\n",
    "Compute the total sum into `total_sum` so that you get the scalar value: `21`.\n",
    "\n",
    "\n",
    "And the row-wise sum into `row_sums` so that you get:\n",
    "\n",
    "\\begin{bmatrix}\n",
    "6 & 15\n",
    "\\end{bmatrix}\n",
    "\n",
    "And the column-wise sum into `column_sums` so that you get:\n",
    "\n",
    "\\begin{bmatrix}\n",
    "5 & 7 & 9\n",
    "\\end{bmatrix}"
   ]
  },
  {
   "cell_type": "code",
   "execution_count": null,
   "id": "3cd258b3",
   "metadata": {},
   "outputs": [],
   "source": [
    "matrix_2x3 = np.array([[1, 2, 3],\n",
    "                         [4, 5, 6]])\n",
    "\n",
    "# WRITE HERE: compute the sum along axis=1 into row_sums\n",
    "row_sums = matrix_2x3.sum(axis=1)\n",
    "column_sums = matrix_2x3.sum(axis=0)\n",
    "\n",
    "total_sum = matrix_2x3.sum()\n",
    "\n",
    "# CHECK\n",
    "print(\"row_sums:\", row_sums)\n",
    "print(\"column_sums:\", column_sums)\n",
    "print(\"total_sum:\", total_sum)\n",
    "assert isinstance(row_sums, np.ndarray), \"row_sums should be a numpy array\"\n",
    "assert row_sums.shape == (2,), \"row_sums should have shape (2,)\"\n",
    "assert np.array_equal(row_sums, np.array([6, 15])), \"Expected [6, 15]\"\n",
    "assert isinstance(column_sums, np.ndarray), \"column_sums should be a numpy array\"\n",
    "assert column_sums.shape == (3,), \"column_sums should have shape (3,)\"\n",
    "assert np.array_equal(column_sums, np.array([5, 7, 9])), \"Expected [5, 7, 9]\"\n",
    "assert np.isscalar(total_sum), \"total_sum should be a scalar\"\n",
    "assert total_sum == 21, \"Expected value 21\"\n",
    "print(\"OK 1.11\")"
   ]
  },
  {
   "cell_type": "markdown",
   "id": "081fd745",
   "metadata": {},
   "source": [
    "## 2. Pandas (mini-ETL)"
   ]
  },
  {
   "cell_type": "markdown",
   "id": "0902f62d",
   "metadata": {},
   "source": [
    "**Exercise 2.01 (Series)**: Create a Pandas Series `scores_series` from the list `[10, 15, 12]`."
   ]
  },
  {
   "cell_type": "code",
   "execution_count": null,
   "id": "8dd45011",
   "metadata": {},
   "outputs": [],
   "source": [
    "# WRITE HERE: create a Series from a list\n",
    "scores_series = pd.Series([10, 15, 12])\n",
    "\n",
    "# CHECK\n",
    "print(\"scores_series:\\n\", scores_series)\n",
    "assert isinstance(scores_series, pd.Series), \"scores_series should be a Series\"\n",
    "assert scores_series.tolist() == [10,15,12], \"scores_series should contain [10,15,12]\"\n",
    "print(\"OK 2.01\")"
   ]
  },
  {
   "cell_type": "markdown",
   "id": "86e9f119",
   "metadata": {},
   "source": [
    "**Exercise 2.02 (DataFrame from dict)**: Create `df_basic = DataFrame({name:[\"Alice\",\"Bob\",\"Charlie\"], score:[10,15,12]})`."
   ]
  },
  {
   "cell_type": "code",
   "execution_count": null,
   "id": "c7b43978",
   "metadata": {},
   "outputs": [],
   "source": [
    "# WRITE HERE: create a DataFrame\n",
    "df_basic = pd.DataFrame({\"name\": [\"Alice\", \"Bob\", \"Charlie\"], \"score\": [10, 15, 12]})\n",
    "\n",
    "# CHECK\n",
    "print(df_basic)\n",
    "assert isinstance(df_basic, pd.DataFrame), \"df_basic should be a DataFrame\"\n",
    "assert list(df_basic.columns) == [\"name\",\"score\"], \"Columns should be ['name','score']\"\n",
    "assert len(df_basic) == 3, \"df_basic should have 3 rows\"\n",
    "print(\"OK 2.02\")"
   ]
  },
  {
   "cell_type": "markdown",
   "id": "425099af",
   "metadata": {},
   "source": [
    "**Exercise 2.03 (select column)**: From `df_basic`, select the `score` column as a Series into `score_col` with values `[10,15,12]`."
   ]
  },
  {
   "cell_type": "code",
   "execution_count": null,
   "id": "1b8cbfe6",
   "metadata": {},
   "outputs": [],
   "source": [
    "# WRITE HERE: select score column as Series\n",
    "score_col = df_basic['score']\n",
    "\n",
    "# CHECK\n",
    "print(\"score_col:\", score_col.values)\n",
    "assert isinstance(score_col, pd.Series), \"score_col should be a Series\"\n",
    "assert score_col.tolist() == [10,15,12], \"score_col values should be [10,15,12]\"\n",
    "print(\"OK 2.03\")"
   ]
  },
  {
   "cell_type": "markdown",
   "id": "8932aea0",
   "metadata": {},
   "source": [
    "**Exercise 2.04 (row filter)**: From `df_basic`, select rows with `score >= 12` into `df_sel` so that it contains names `B` and `C` only."
   ]
  },
  {
   "cell_type": "code",
   "execution_count": null,
   "id": "7c3e7a3e",
   "metadata": {},
   "outputs": [],
   "source": [
    "# WRITE HERE: filter rows where score >= 12\n",
    "df_sel = df_basic[df_basic['score'] >= 12]\n",
    "\n",
    "# CHECK\n",
    "print(df_sel)\n",
    "assert isinstance(df_sel, pd.DataFrame), \"df_sel should be a DataFrame\"\n",
    "assert list(df_sel[\"name\"]) == [\"Bob\",\"Charlie\"], \"df_sel should contain names B and C\"\n",
    "print(\"OK 2.04\")"
   ]
  },
  {
   "cell_type": "markdown",
   "id": "6be70b8b",
   "metadata": {},
   "source": [
    "**Exercise 2.05 (assign new column)**: From `df_basic`, create `df_with_passed` by adding a boolean column `passed = score >= 12`."
   ]
  },
  {
   "cell_type": "code",
   "execution_count": null,
   "id": "bb967abe",
   "metadata": {},
   "outputs": [],
   "source": [
    "df_with_passed = df_basic.copy()\n",
    "# WRITE HERE: add a boolean column 'passed'\n",
    "df_with_passed['passed'] = df_with_passed['score'] >= 12\n",
    "\n",
    "# CHECK\n",
    "print(df_with_passed)\n",
    "assert isinstance(df_with_passed, pd.DataFrame), \"df_with_passed should be a DataFrame\"\n",
    "assert \"passed\" in df_with_passed.columns and df_with_passed[\"passed\"].dtype == bool, \"'passed' column should exist and be boolean\"\n",
    "assert df_with_passed[\"passed\"].tolist() == [False, True, True], \"Expected passed values [False, True, True]\"\n",
    "print(\"OK 2.05\")"
   ]
  },
  {
   "cell_type": "markdown",
   "id": "abe07e76",
   "metadata": {},
   "source": [
    "**Exercise 2.06 (groupby mean)**: Compute the mean score per `passed` value into `mean_by_passed` so that you get the averages:\n",
    "\n",
    "False: 10.0\n",
    "\n",
    "True: 13.5"
   ]
  },
  {
   "cell_type": "code",
   "execution_count": null,
   "id": "73baaae8",
   "metadata": {},
   "outputs": [],
   "source": [
    "# WRITE HERE: compute mean score per 'passed'\n",
    "mean_by_passed = df_with_passed.groupby('passed')['score'].mean()\n",
    "\n",
    "# CHECK\n",
    "print(\"mean_by_passed:\\n\", mean_by_passed)\n",
    "assert isinstance(mean_by_passed, pd.Series), \"mean_by_passed should be a Series\"\n",
    "assert set(mean_by_passed.index.tolist()) == {False, True}, \"Index should be booleans {False, True}\"\n",
    "assert np.isclose(mean_by_passed.loc[False], 10.0) and np.isclose(mean_by_passed.loc[True], 13.5), \"Expected means {False:10.0, True:13.5}\"\n",
    "print(\"OK 2.06\")"
   ]
  },
  {
   "cell_type": "markdown",
   "id": "1604ba50",
   "metadata": {},
   "source": [
    "**Exercise 2.07 (top-k)**: Select the top 2 rows by `score` into `top2`."
   ]
  },
  {
   "cell_type": "code",
   "execution_count": null,
   "id": "7808d7b0",
   "metadata": {},
   "outputs": [],
   "source": [
    "# WRITE HERE: select top 2 by score into top2\n",
    "top2 = pd.DataFrame({\"name\": [\"Bob\", \"Charlie\"], \"score\": [15, 12]})\n",
    "\n",
    "# CHECK\n",
    "print(top2)\n",
    "assert isinstance(top2, pd.DataFrame), \"top2 should be a DataFrame\"\n",
    "assert list(top2[\"name\"]) == [\"Bob\",\"Charlie\"], \"Top 2 by score should be Bob and Charlie\"\n",
    "print(\"OK 2.07\")"
   ]
  },
  {
   "cell_type": "markdown",
   "id": "5e36697b",
   "metadata": {},
   "source": [
    "**Exercise 2.08 (missing values)**: Given a `score` column with one `NaN`, fill it with the column mean into `filled_scores` (a Series) so there are no missing values."
   ]
  },
  {
   "cell_type": "code",
   "execution_count": null,
   "id": "441b8529",
   "metadata": {},
   "outputs": [],
   "source": [
    "df_na = pd.DataFrame({\"name\": [\"Alice\", \"Bob\", \"Charlie\"], \"score\": [10, np.nan, 12]})\n",
    "\n",
    "# WRITE HERE: fill NaN in 'score' with the column mean\n",
    "filled_scores = df_na['score'].fillna(df_na['score'].mean())\n",
    "\n",
    "# CHECK\n",
    "print(\"filled_scores:\", filled_scores.values)\n",
    "assert isinstance(filled_scores, pd.Series), \"filled_scores should be a Series\"\n",
    "assert not filled_scores.isna().any(), \"filled_scores should have no NaNs\"\n",
    "expected_mean = np.mean([10, 12])\n",
    "assert np.isclose(filled_scores.iloc[1], expected_mean), \"Filled value should equal column mean\"\n",
    "print(\"OK 2.08\")"
   ]
  },
  {
   "cell_type": "markdown",
   "id": "f27c74ba",
   "metadata": {},
   "source": [
    "**Exercise 2.09 (merge/join)**: Merge two tables on `name`. Left-join `df_basic` with `df_info` to produce `df_merged` that contains columns `name, score, age`."
   ]
  },
  {
   "cell_type": "code",
   "execution_count": null,
   "id": "6e439360",
   "metadata": {},
   "outputs": [],
   "source": [
    "df_basic = pd.DataFrame({\"name\": [\"Alice\", \"Bob\", \"Charlie\"], \"score\": [10,15,12]})\n",
    "df_info  = pd.DataFrame({\"name\": [\"Alice\", \"Bob\", \"Charlie\"], \"age\": [20,21,22]})\n",
    "\n",
    "# WRITE HERE: left-join on 'name'\n",
    "df_merged = pd.merge(df_basic, df_info, on='name', how='left')\n",
    "\n",
    "# CHECK\n",
    "print(df_merged)\n",
    "assert isinstance(df_merged, pd.DataFrame), \"df_merged should be a DataFrame\"\n",
    "assert list(df_merged.columns) == [\"name\",\"score\",\"age\"], \"Columns should be ['name','score','age']\"\n",
    "assert df_merged.loc[df_merged[\"name\"]==\"Bob\",\"age\"].iloc[0] == 21, \"Age for Bob should be 21\"\n",
    "print(\"OK 2.09\")"
   ]
  },
  {
   "cell_type": "markdown",
   "id": "c6c2f5e0",
   "metadata": {},
   "source": [
    "**Exercise 2.10 (value_counts)**: Using a DataFrame with a boolean column `passed`, compute the count of True/False values into `passed_counts` so that you get:\n",
    "\n",
    "True: 2\n",
    "\n",
    "False: 1"
   ]
  },
  {
   "cell_type": "code",
   "execution_count": null,
   "id": "87c7d3cc",
   "metadata": {},
   "outputs": [],
   "source": [
    "# Start from a small DataFrame\n",
    "pd_df = pd.DataFrame({\"name\": [\"Alice\", \"Bob\", \"Charlie\"], \"score\": [10,15,12]})\n",
    "df_with_passed = pd_df.assign(passed=lambda d: d[\"score\"] >= 12)\n",
    "\n",
    "# WRITE HERE: count True/False in 'passed' into passed_counts\n",
    "passed_counts = df_with_passed['passed'].value_counts()\n",
    "\n",
    "# CHECK\n",
    "print(\"passed_counts:\\n\", passed_counts)\n",
    "assert isinstance(passed_counts, pd.Series), \"passed_counts should be a Series\"\n",
    "assert set(passed_counts.index.tolist()) == {False, True}, \"Index should be booleans {False, True}\"\n",
    "assert passed_counts.loc[True] == 2 and passed_counts.loc[False] == 1, \"Counts should be True:2, False:1\"\n",
    "print(\"OK 2.10\")"
   ]
  },
  {
   "cell_type": "markdown",
   "id": "5b83733a",
   "metadata": {},
   "source": [
    "## 3. Matplotlib (basic plot)"
   ]
  },
  {
   "cell_type": "markdown",
   "id": "1a8c621c",
   "metadata": {},
   "source": [
    "**Exercise 3.1**: For `x = np.arange(0,10)`, compute `y = x**2` and store in variable `y`. Then make a basic line plot with plt.plot (no special styling)."
   ]
  },
  {
   "cell_type": "code",
   "execution_count": null,
   "id": "333d911e",
   "metadata": {},
   "outputs": [],
   "source": [
    "x = np.arange(0,10)\n",
    "\n",
    "# WRITE HERE\n",
    "y = x**2\n",
    "plt.figure()\n",
    "plt.plot(x, y)\n",
    "plt.xlabel('x')\n",
    "plt.ylabel('y')\n",
    "plt.title('y = x**2')\n",
    "\n",
    "\n",
    "# CHECK\n",
    "assert isinstance(y, np.ndarray), \"y should be a numpy array\"\n",
    "assert y.shape == x.shape, \"y should match x shape\"\n",
    "assert np.all(y == x**2), \"y should be x**2\"\n",
    "print(\"OK 3.1\")"
   ]
  },
  {
   "cell_type": "markdown",
   "id": "cf9a47f7",
   "metadata": {},
   "source": [
    "**Exercise 3.2 (scatter)**: Create a scatter plot of `(x, y)` where x and y are filled with 10 random values between 0 and 1."
   ]
  },
  {
   "cell_type": "code",
   "execution_count": null,
   "id": "2bf40e6e",
   "metadata": {},
   "outputs": [],
   "source": [
    "# DATA\n",
    "x = np.random.rand(10)\n",
    "y = np.random.rand(10)\n",
    "\n",
    "plt.figure()\n",
    "plt.scatter(x, y)\n",
    "plt.xlabel('x')\n",
    "plt.ylabel('y')\n",
    "plt.title('Scatter x vs y')\n",
    "\n",
    "\n",
    "# CHECKS\n",
    "assert isinstance(x, np.ndarray) and isinstance(y, np.ndarray), \"x and y should be numpy arrays\"\n",
    "assert x.shape == y.shape == (10,), \"x and y should both have shape (10,)\"\n",
    "print(\"OK 3.2 (scatter)\")"
   ]
  },
  {
   "cell_type": "markdown",
   "id": "fa073e65",
   "metadata": {},
   "source": [
    "**Exercise 3.3 (MNIST image)**: Load one MNIST sample from the training set and display it with `plt.imshow(..., cmap='gray')` and `plt.axis('off')`."
   ]
  },
  {
   "cell_type": "code",
   "execution_count": null,
   "id": "0cde2511",
   "metadata": {},
   "outputs": [],
   "source": [
    "# WRITE HERE: load MNIST training set (use the same tx = transforms.ToTensor())\n",
    "tx = transforms.ToTensor()\n",
    "mnist_train = datasets.MNIST(root=\"./data\", train=True, download=True, transform=tx)\n",
    "img_tensor, label = mnist_train[0]\n",
    "\n",
    "image = img_tensor.squeeze(0)\n",
    "\n",
    "plt.imshow(image, cmap='gray')\n",
    "plt.axis('off')\n",
    "\n",
    "\n",
    "# CHECKS (shape only)\n",
    "assert img_tensor.shape == (1, 28, 28), \"MNIST image should be 1x28x28\"\n",
    "assert isinstance(label, int), \"label should be an int\"\n",
    "print(\"OK 3.3 (MNIST image)\")"
   ]
  }
 ],
 "metadata": {
  "kernelspec": {
   "display_name": "tutorials-25-26",
   "language": "python",
   "name": "python3"
  },
  "language_info": {
   "codemirror_mode": {
    "name": "ipython",
    "version": 3
   },
   "file_extension": ".py",
   "mimetype": "text/x-python",
   "name": "python",
   "nbconvert_exporter": "python",
   "pygments_lexer": "ipython3",
   "version": "3.13.2"
  }
 },
 "nbformat": 4,
 "nbformat_minor": 5
}
