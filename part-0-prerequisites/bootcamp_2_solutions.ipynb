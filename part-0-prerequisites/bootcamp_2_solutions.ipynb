{
 "cells": [
  {
   "cell_type": "markdown",
   "id": "1ce17ebc",
   "metadata": {},
   "source": [
    "# Bootcamp 2"
   ]
  },
  {
   "cell_type": "code",
   "execution_count": 1,
   "id": "c3be1f13",
   "metadata": {},
   "outputs": [],
   "source": [
    "import torch, torch.nn as nn, torch.nn.functional as F\n",
    "from torch.utils.data import DataLoader\n",
    "from torchvision import datasets, transforms\n",
    "import matplotlib.pyplot as plt"
   ]
  },
  {
   "cell_type": "markdown",
   "id": "c5dfe215",
   "metadata": {},
   "source": [
    "## Data setup"
   ]
  },
  {
   "cell_type": "markdown",
   "id": "2328bfd9",
   "metadata": {},
   "source": [
    "### Loading the Data in Training and Validation Sets"
   ]
  },
  {
   "cell_type": "code",
   "execution_count": 2,
   "id": "3e63e5d9",
   "metadata": {},
   "outputs": [],
   "source": [
    "train_dataset = datasets.MNIST(\n",
    "    root=\"./data\",\n",
    "    train=True,\n",
    "    download=True,\n",
    "    transform=transforms.ToTensor()\n",
    ")\n",
    "\n",
    "validation_dataset = datasets.MNIST(\n",
    "    root=\"./data\",\n",
    "    train=False,\n",
    "    download=True,\n",
    "    transform=transforms.ToTensor()\n",
    ")\n",
    "\n",
    "train_loader = DataLoader(\n",
    "    dataset=train_dataset,\n",
    "    batch_size=32,\n",
    "    shuffle=True\n",
    ")\n",
    "\n",
    "validation_loader = DataLoader(\n",
    "    dataset=validation_dataset,\n",
    "    batch_size=256,\n",
    "    shuffle=False\n",
    ")"
   ]
  },
  {
   "cell_type": "code",
   "execution_count": 3,
   "id": "2567b67d",
   "metadata": {},
   "outputs": [
    {
     "name": "stdout",
     "output_type": "stream",
     "text": [
      "Training images: torch.Size([60000, 28, 28])\n",
      "Training labels:  torch.Size([60000])\n",
      "Validation images: torch.Size([10000, 28, 28])\n",
      "Validation labels: torch.Size([10000])\n"
     ]
    }
   ],
   "source": [
    "\n",
    "\n",
    "print(\"Training images:\", train_dataset.data.shape)\n",
    "print(\"Training labels: \", train_dataset.targets.shape)\n",
    "\n",
    "print(\"Validation images:\", validation_dataset.data.shape)\n",
    "print(\"Validation labels:\", validation_dataset.targets.shape)"
   ]
  },
  {
   "cell_type": "markdown",
   "id": "a37774ad",
   "metadata": {},
   "source": [
    "### Displaying the Data"
   ]
  },
  {
   "cell_type": "code",
   "execution_count": 4,
   "id": "5d33c69b",
   "metadata": {},
   "outputs": [
    {
     "data": {
      "image/png": "[encoded data removed]",
      "text/plain": [
       "<Figure size 640x480 with 1 Axes>"
      ]
     },
     "metadata": {},
     "output_type": "display_data"
    }
   ],
   "source": [
    "mnist_digit = train_dataset.data[0]\n",
    "plt.imshow(mnist_digit, cmap='gray')\n",
    "plt.axis('off')\n",
    "plt.show()"
   ]
  },
  {
   "cell_type": "markdown",
   "id": "a825e99a",
   "metadata": {},
   "source": [
    "## Training Setup"
   ]
  },
  {
   "cell_type": "markdown",
   "id": "be2044fe",
   "metadata": {},
   "source": [
    "### Defining the Model"
   ]
  },
  {
   "cell_type": "code",
   "execution_count": 5,
   "id": "694b6451",
   "metadata": {},
   "outputs": [],
   "source": [
    "model = nn.Sequential(\n",
    "    nn.Flatten(),\n",
    "    nn.Linear(28*28, 128),\n",
    "    nn.ReLU(),\n",
    "    nn.Linear(128, 10)\n",
    ")"
   ]
  },
  {
   "cell_type": "markdown",
   "id": "bc0ab07c",
   "metadata": {},
   "source": [
    "### Setting the Loss Function and Optimizer"
   ]
  },
  {
   "cell_type": "code",
   "execution_count": 6,
   "id": "3d70eb3a",
   "metadata": {},
   "outputs": [],
   "source": [
    "loss_fn = nn.CrossEntropyLoss()\n",
    "opt = torch.optim.SGD(model.parameters(), lr=0.1)"
   ]
  },
  {
   "cell_type": "markdown",
   "id": "a9d65558",
   "metadata": {},
   "source": [
    "## Training the Model"
   ]
  },
  {
   "cell_type": "code",
   "execution_count": 7,
   "id": "071cbb4e",
   "metadata": {},
   "outputs": [
    {
     "name": "stdout",
     "output_type": "stream",
     "text": [
      "Epoch 1 done\n",
      "Epoch 2 done\n",
      "Epoch 3 done\n"
     ]
    }
   ],
   "source": [
    "model.train()\n",
    "number_of_epochs = 3\n",
    "for epoch in range(number_of_epochs):\n",
    "    for X, y in train_loader:\n",
    "        opt.zero_grad()\n",
    "        y_hat = model(X)\n",
    "        loss = loss_fn(y_hat, y)\n",
    "        loss.backward()\n",
    "        opt.step()\n",
    "    print(f\"Epoch {epoch+1} done\")"
   ]
  },
  {
   "cell_type": "markdown",
   "id": "2a4c7be0",
   "metadata": {},
   "source": [
    "## Evaluating the Model"
   ]
  },
  {
   "cell_type": "markdown",
   "id": "73e6cd11",
   "metadata": {},
   "source": [
    "### Calculating Accuracy"
   ]
  },
  {
   "cell_type": "code",
   "execution_count": 8,
   "id": "40a3cdfa",
   "metadata": {},
   "outputs": [
    {
     "name": "stdout",
     "output_type": "stream",
     "text": [
      "Validation accuracy: 0.971\n"
     ]
    }
   ],
   "source": [
    "model.eval()\n",
    "correct = 0\n",
    "total   = 0\n",
    "with torch.no_grad():\n",
    "    for X, y in validation_loader:\n",
    "        pred = model(X).argmax(dim=1)\n",
    "        correct += (pred == y).sum().item()\n",
    "        total   += y.size(0)\n",
    "print(f\"Validation accuracy: {correct/total:.3f}\")"
   ]
  },
  {
   "cell_type": "markdown",
   "id": "00648a8a",
   "metadata": {},
   "source": [
    "### Displaying the Results"
   ]
  },
  {
   "cell_type": "code",
   "execution_count": 9,
   "id": "352bef0a",
   "metadata": {},
   "outputs": [
    {
     "data": {
      "image/png": "[encoded data removed]",
      "text/plain": [
       "<Figure size 1200x400 with 16 Axes>"
      ]
     },
     "metadata": {},
     "output_type": "display_data"
    }
   ],
   "source": [
    "model.eval()\n",
    "X, y = next(iter(validation_loader))\n",
    "with torch.no_grad():\n",
    "    preds = model(X).argmax(dim=1)\n",
    "\n",
    "plt.figure(figsize=(12, 4))\n",
    "for i in range(16):\n",
    "    plt.subplot(2, 8, i+1)\n",
    "    plt.imshow(X[i][0], cmap='gray')\n",
    "    plt.title(f\"P:{preds[i].item()}\\nT:{y[i].item()}\")\n",
    "    plt.axis('off')\n",
    "plt.suptitle('Predicted (P) vs True (T) labels')\n",
    "plt.show()"
   ]
  },
  {
   "cell_type": "code",
   "execution_count": null,
   "id": "47c91c2e",
   "metadata": {},
   "outputs": [],
   "source": [
    "Addendum - Intro to ML-ops\n",
    "\n",
    "Export the model, load it in and prepare it for inference via Python"
   ]
  }
 ],
 "metadata": {
  "kernelspec": {
   "display_name": "tutorials-25-26",
   "language": "python",
   "name": "python3"
  },
  "language_info": {
   "codemirror_mode": {
    "name": "ipython",
    "version": 3
   },
   "file_extension": ".py",
   "mimetype": "text/x-python",
   "name": "python",
   "nbconvert_exporter": "python",
   "pygments_lexer": "ipython3",
   "version": "3.13.2"
  }
 },
 "nbformat": 4,
 "nbformat_minor": 5
}
